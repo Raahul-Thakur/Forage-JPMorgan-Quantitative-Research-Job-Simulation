{
 "cells": [
  {
   "cell_type": "code",
   "execution_count": 1,
   "id": "672c3b41-de0c-456e-bd3b-612223371b60",
   "metadata": {},
   "outputs": [],
   "source": [
    "import pandas as pd\n",
    "import numpy as np\n",
    "from sklearn.model_selection import train_test_split\n",
    "from sklearn.cluster import KMeans\n",
    "import matplotlib.pyplot as plt"
   ]
  },
  {
   "cell_type": "code",
   "execution_count": 2,
   "id": "fb517e99-bea5-4ba1-9c64-b074ca34ed98",
   "metadata": {},
   "outputs": [],
   "source": [
    "df = pd.read_csv('Task 3 and 4_Loan_Data.csv')"
   ]
  },
  {
   "cell_type": "code",
   "execution_count": 3,
   "id": "a5d26d0a-fc3d-4351-b0dc-e4ea6329fed8",
   "metadata": {},
   "outputs": [
    {
     "data": {
      "text/html": [
       "<div>\n",
       "<style scoped>\n",
       "    .dataframe tbody tr th:only-of-type {\n",
       "        vertical-align: middle;\n",
       "    }\n",
       "\n",
       "    .dataframe tbody tr th {\n",
       "        vertical-align: top;\n",
       "    }\n",
       "\n",
       "    .dataframe thead th {\n",
       "        text-align: right;\n",
       "    }\n",
       "</style>\n",
       "<table border=\"1\" class=\"dataframe\">\n",
       "  <thead>\n",
       "    <tr style=\"text-align: right;\">\n",
       "      <th></th>\n",
       "      <th>customer_id</th>\n",
       "      <th>credit_lines_outstanding</th>\n",
       "      <th>loan_amt_outstanding</th>\n",
       "      <th>total_debt_outstanding</th>\n",
       "      <th>income</th>\n",
       "      <th>years_employed</th>\n",
       "      <th>fico_score</th>\n",
       "      <th>default</th>\n",
       "    </tr>\n",
       "  </thead>\n",
       "  <tbody>\n",
       "    <tr>\n",
       "      <th>0</th>\n",
       "      <td>8153374</td>\n",
       "      <td>0</td>\n",
       "      <td>5221.545193</td>\n",
       "      <td>3915.471226</td>\n",
       "      <td>78039.38546</td>\n",
       "      <td>5</td>\n",
       "      <td>605</td>\n",
       "      <td>0</td>\n",
       "    </tr>\n",
       "    <tr>\n",
       "      <th>1</th>\n",
       "      <td>7442532</td>\n",
       "      <td>5</td>\n",
       "      <td>1958.928726</td>\n",
       "      <td>8228.752520</td>\n",
       "      <td>26648.43525</td>\n",
       "      <td>2</td>\n",
       "      <td>572</td>\n",
       "      <td>1</td>\n",
       "    </tr>\n",
       "    <tr>\n",
       "      <th>2</th>\n",
       "      <td>2256073</td>\n",
       "      <td>0</td>\n",
       "      <td>3363.009259</td>\n",
       "      <td>2027.830850</td>\n",
       "      <td>65866.71246</td>\n",
       "      <td>4</td>\n",
       "      <td>602</td>\n",
       "      <td>0</td>\n",
       "    </tr>\n",
       "    <tr>\n",
       "      <th>3</th>\n",
       "      <td>4885975</td>\n",
       "      <td>0</td>\n",
       "      <td>4766.648001</td>\n",
       "      <td>2501.730397</td>\n",
       "      <td>74356.88347</td>\n",
       "      <td>5</td>\n",
       "      <td>612</td>\n",
       "      <td>0</td>\n",
       "    </tr>\n",
       "    <tr>\n",
       "      <th>4</th>\n",
       "      <td>4700614</td>\n",
       "      <td>1</td>\n",
       "      <td>1345.827718</td>\n",
       "      <td>1768.826187</td>\n",
       "      <td>23448.32631</td>\n",
       "      <td>6</td>\n",
       "      <td>631</td>\n",
       "      <td>0</td>\n",
       "    </tr>\n",
       "  </tbody>\n",
       "</table>\n",
       "</div>"
      ],
      "text/plain": [
       "   customer_id  credit_lines_outstanding  loan_amt_outstanding  \\\n",
       "0      8153374                         0           5221.545193   \n",
       "1      7442532                         5           1958.928726   \n",
       "2      2256073                         0           3363.009259   \n",
       "3      4885975                         0           4766.648001   \n",
       "4      4700614                         1           1345.827718   \n",
       "\n",
       "   total_debt_outstanding       income  years_employed  fico_score  default  \n",
       "0             3915.471226  78039.38546               5         605        0  \n",
       "1             8228.752520  26648.43525               2         572        1  \n",
       "2             2027.830850  65866.71246               4         602        0  \n",
       "3             2501.730397  74356.88347               5         612        0  \n",
       "4             1768.826187  23448.32631               6         631        0  "
      ]
     },
     "execution_count": 3,
     "metadata": {},
     "output_type": "execute_result"
    }
   ],
   "source": [
    "df.head()"
   ]
  },
  {
   "cell_type": "code",
   "execution_count": 4,
   "id": "11479f19-89e5-437f-b485-b264476c459c",
   "metadata": {},
   "outputs": [
    {
     "name": "stdout",
     "output_type": "stream",
     "text": [
      "<class 'pandas.core.frame.DataFrame'>\n",
      "RangeIndex: 10000 entries, 0 to 9999\n",
      "Data columns (total 8 columns):\n",
      " #   Column                    Non-Null Count  Dtype  \n",
      "---  ------                    --------------  -----  \n",
      " 0   customer_id               10000 non-null  int64  \n",
      " 1   credit_lines_outstanding  10000 non-null  int64  \n",
      " 2   loan_amt_outstanding      10000 non-null  float64\n",
      " 3   total_debt_outstanding    10000 non-null  float64\n",
      " 4   income                    10000 non-null  float64\n",
      " 5   years_employed            10000 non-null  int64  \n",
      " 6   fico_score                10000 non-null  int64  \n",
      " 7   default                   10000 non-null  int64  \n",
      "dtypes: float64(3), int64(5)\n",
      "memory usage: 625.1 KB\n"
     ]
    }
   ],
   "source": [
    "df.info()"
   ]
  },
  {
   "cell_type": "code",
   "execution_count": 5,
   "id": "0a56dbee-469c-4ef7-acdd-e29e69cabc60",
   "metadata": {},
   "outputs": [],
   "source": [
    "df['bucket_equal_width'] = pd.cut(df['fico_score'], bins=5, labels=False)\n",
    "df['bucket_equal_freq'] = pd.qcut(df['fico_score'], q=5, labels=False)"
   ]
  },
  {
   "cell_type": "code",
   "execution_count": 6,
   "id": "e36ea882-5d78-4127-8cf0-9969678677d4",
   "metadata": {},
   "outputs": [],
   "source": [
    "def log_likelihood_partition(scores, defaults, n_buckets):\n",
    "    n = len(scores)\n",
    "    dp = np.full((n+1, n_buckets+1), -np.inf)\n",
    "    back = np.zeros((n+1, n_buckets+1), dtype=int)\n",
    "    \n",
    "    order = np.argsort(scores)\n",
    "    scores, defaults = scores[order], defaults[order]\n",
    "\n",
    "    cum_defaults = np.cumsum(defaults)\n",
    "    cum_counts = np.arange(1, n+1)\n",
    "\n",
    "    def interval_ll(i, j):\n",
    "        n_ij = j - i\n",
    "        k_ij = cum_defaults[j-1] - (cum_defaults[i-1] if i > 0 else 0)\n",
    "        if k_ij == 0 or k_ij == n_ij:\n",
    "            return 0\n",
    "        p = k_ij / n_ij\n",
    "        return k_ij*np.log(p) + (n_ij-k_ij)*np.log(1-p)\n",
    "\n",
    "    for j in range(1, n+1):\n",
    "        dp[j][1] = interval_ll(0, j)\n",
    "\n",
    "    for b in range(2, n_buckets+1):\n",
    "        for j in range(b, n+1):\n",
    "            for i in range(b-1, j):\n",
    "                val = dp[i][b-1] + interval_ll(i, j)\n",
    "                if val > dp[j][b]:\n",
    "                    dp[j][b] = val\n",
    "                    back[j][b] = i\n",
    "\n",
    "    boundaries = []\n",
    "    j, b = n, n_buckets\n",
    "    while b > 0:\n",
    "        i = back[j][b]\n",
    "        boundaries.append(scores[i])\n",
    "        j, b = i, b-1\n",
    "    boundaries = sorted(boundaries)\n",
    "    \n",
    "    return boundaries"
   ]
  },
  {
   "cell_type": "code",
   "execution_count": 7,
   "id": "26137eb8-ace7-46e5-b755-d199c962662e",
   "metadata": {},
   "outputs": [],
   "source": [
    "boundaries = log_likelihood_partition(\n",
    "    df['fico_score'].values,\n",
    "    df['default'].values,\n",
    "    n_buckets=5\n",
    ")"
   ]
  },
  {
   "cell_type": "code",
   "execution_count": 8,
   "id": "624a94fc-7c4f-40ac-b9a7-823030c83f03",
   "metadata": {},
   "outputs": [
    {
     "name": "stdout",
     "output_type": "stream",
     "text": [
      "Optimal bucket boundaries: [408, 521, 580, 640, 696]\n"
     ]
    }
   ],
   "source": [
    "print(\"Optimal bucket boundaries:\", boundaries)"
   ]
  },
  {
   "cell_type": "code",
   "execution_count": 9,
   "id": "641763ba-89b5-49e8-926c-5e2a35e36579",
   "metadata": {},
   "outputs": [],
   "source": [
    "df['bucket_optimal'] = pd.cut(\n",
    "    df['fico_score'],\n",
    "    bins=[-np.inf] + boundaries + [np.inf],\n",
    "    labels=False\n",
    ")"
   ]
  },
  {
   "cell_type": "code",
   "execution_count": 10,
   "id": "7e84ca4a-2b6e-45d7-9044-a20a0a8172fc",
   "metadata": {},
   "outputs": [],
   "source": [
    "kmeans = KMeans(n_clusters=5, random_state=42, n_init=10)\n",
    "df['bucket_kmeans'] = kmeans.fit_predict(df[['fico_score']])"
   ]
  },
  {
   "cell_type": "code",
   "execution_count": 11,
   "id": "a7831785-9107-45c9-8028-eb42130ab1be",
   "metadata": {},
   "outputs": [],
   "source": [
    "cluster_order = df.groupby('bucket_kmeans')['fico_score'].mean().sort_values().index\n",
    "mapping = {cluster: i for i, cluster in enumerate(cluster_order)}\n",
    "df['bucket_kmeans'] = df['bucket_kmeans'].map(mapping)"
   ]
  },
  {
   "cell_type": "code",
   "execution_count": 12,
   "id": "53513cdd-e67b-4fdf-b38b-ab12b45bff3b",
   "metadata": {},
   "outputs": [],
   "source": [
    "rating_labels = ['A', 'B', 'C', 'D', 'E']"
   ]
  },
  {
   "cell_type": "code",
   "execution_count": 13,
   "id": "f406c6b1-6810-4c59-b6da-64a4c1cce155",
   "metadata": {},
   "outputs": [],
   "source": [
    "df['rating'] = df['bucket_optimal'].max() - df['bucket_optimal']\n",
    "df['rating'] = df['rating'].map(dict(enumerate(rating_labels)))"
   ]
  },
  {
   "cell_type": "code",
   "execution_count": 14,
   "id": "aedd7b91-8501-4783-b10c-4ac9ccf2abd2",
   "metadata": {},
   "outputs": [],
   "source": [
    "summary = df.groupby('rating').agg(\n",
    "    fico_min=('fico_score', 'min'),\n",
    "    fico_max=('fico_score', 'max'),\n",
    "    avg_fico=('fico_score', 'mean'),\n",
    "    default_rate=('default', 'mean'),\n",
    "    count=('fico_score', 'count')\n",
    ").sort_values(by='avg_fico', ascending=False)"
   ]
  },
  {
   "cell_type": "code",
   "execution_count": 15,
   "id": "04d5250c-503a-4118-a753-0e3b8351051d",
   "metadata": {},
   "outputs": [
    {
     "name": "stdout",
     "output_type": "stream",
     "text": [
      "\n",
      "Rating Map Summary:\n",
      "        fico_min  fico_max    avg_fico  default_rate  count\n",
      "rating                                                     \n",
      "A            697       850  727.461074      0.046470   1657\n",
      "B            641       696  666.358148      0.105099   3197\n",
      "C            581       640  612.789122      0.204479   3438\n",
      "D            522       580  557.608477      0.380029   1392\n",
      "E            409       521  496.695238      0.653968    315\n"
     ]
    }
   ],
   "source": [
    "print(\"\\nRating Map Summary:\")\n",
    "print(summary)"
   ]
  },
  {
   "cell_type": "code",
   "execution_count": 16,
   "id": "127fc803-553d-40d2-ae9f-c1220bd4a612",
   "metadata": {},
   "outputs": [
    {
     "data": {
      "image/png": "[encoded data removed]",
      "text/plain": [
       "<Figure size 800x500 with 1 Axes>"
      ]
     },
     "metadata": {},
     "output_type": "display_data"
    }
   ],
   "source": [
    "plt.figure(figsize=(8,5))\n",
    "plt.bar(summary.index, summary['default_rate'], color='steelblue', edgecolor='black')\n",
    "plt.title(\"Default Rate by Rating Bucket\", fontsize=14)\n",
    "plt.xlabel(\"Rating (A = Best, E = Worst)\", fontsize=12)\n",
    "plt.ylabel(\"Default Rate\", fontsize=12)\n",
    "plt.show()"
   ]
  },
  {
   "cell_type": "code",
   "execution_count": 39,
   "id": "e9f8935b-8608-4f55-bde4-7e205e460fc2",
   "metadata": {},
   "outputs": [
    {
     "data": {
      "image/png": "[encoded data removed]",
      "text/plain": [
       "<Figure size 640x480 with 1 Axes>"
      ]
     },
     "metadata": {},
     "output_type": "display_data"
    }
   ],
   "source": [
    "plt.plot(summary.index, summary['avg_fico'], marker='o', linestyle='-', color='darkorange')\n",
    "plt.title(\"Average FICO by Rating Bucket\", fontsize=14)\n",
    "plt.xlabel(\"Rating (A = Best, E = Worst)\", fontsize=12)\n",
    "plt.ylabel(\"Average FICO Score\", fontsize=12)\n",
    "\n",
    "plt.tight_layout()\n",
    "plt.show()"
   ]
  },
  {
   "cell_type": "code",
   "execution_count": null,
   "id": "a7ca0177-892b-4789-aefe-c9af4c0bb6ea",
   "metadata": {},
   "outputs": [],
   "source": []
  }
 ],
 "metadata": {
  "kernelspec": {
   "display_name": "Python 3 (ipykernel)",
   "language": "python",
   "name": "python3"
  },
  "language_info": {
   "codemirror_mode": {
    "name": "ipython",
    "version": 3
   },
   "file_extension": ".py",
   "mimetype": "text/x-python",
   "name": "python",
   "nbconvert_exporter": "python",
   "pygments_lexer": "ipython3",
   "version": "3.12.4"
  }
 },
 "nbformat": 4,
 "nbformat_minor": 5
}
